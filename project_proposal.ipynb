{
 "cells": [
  {
   "cell_type": "markdown",
   "id": "d26c4d84",
   "metadata": {},
   "source": [
    "# ParallelPytorch\n",
    "\n",
    "By Jie Gao"
   ]
  },
  {
   "cell_type": "markdown",
   "id": "ff90f97b",
   "metadata": {},
   "source": [
    "\n",
    "<img alt=\"Simple Icon of a camera. This is just a place holder for your image\" src=\"./img/Pytorch_logo.png\" width=\"80%\">\n",
    "\n",
    "Image from: (https://commons.wikimedia.org/wiki/File:Pytorch_logo.png)\n"
   ]
  },
  {
   "cell_type": "markdown",
   "id": "507100fe",
   "metadata": {},
   "source": [
    "---\n",
    "### Abstract\n",
    "\n",
    "The domain for my Pytorch project is transportation and specifically object detection.The motivation behind picking this domain is the increasing demand for efficient and safe train transportation systems. The use of object detection algorithms in autonomous trains can help in identifying and avoiding any potential obstacles on the track.\n",
    "<br>Computation is extensively used in this domain for both training and inference tasks. The software I want to explore is PyTorch, which is a popular deep learning framework that provides support for parallel computing. \n",
    "The hardware that will be used in this exploration includes a computer with a high-performance GPU for training the model such as msu HPCC \n",
    "<br>The benchmark that will be set is the accuracy of the object detection model in detecting various obstacles.The goal is to speed up the training process while maintaining high accuracy.\n",
    "A successful outcome of this project would be the deployment of the object detection model for an autonomous train, demonstrating its efficiency in detecting obstacles in real-time."
   ]
  },
  {
   "cell_type": "markdown",
   "id": "a907be15",
   "metadata": {},
   "source": [
    "----\n",
    "### Schedule\n",
    "&#9989;  provide a schedule for you to complete all of your milestones on time.  Include what you plan to work on each week from now until when the projects are due:\n",
    "\n",
    "\n",
    "* Sunday February 5 - Project Proposal Milestone Due\n",
    "* Week of February 12\n",
    "<br>-----Collect and pre-process the data to be used for training the model\n",
    "<br>-----Split the data into training and testing sets\n",
    "* Week of February 19\n",
    "<br>-----Train the object detection model using TensorFlow\n",
    "<br>-----Experiment with different models and parameters to achieve the highest accuracy\n",
    "* Week of February 26\n",
    "<br>-----working on project Part 1\n",
    "* Sunday February 26 - Project Part 1 Due\n",
    "* Week of March 5\n",
    "<br>-----Spring break\n",
    "* Week of March 12\n",
    "<br>-----Second round of testing, adjust as needed\n",
    "* Week of March 19\n",
    "<br>-----modify the training code to make run faster\n",
    "* Week of March 26\n",
    "<br>-----modify the training code to make run faster(this may take two weeks)\n",
    "<br>-----test the new training code on the model \n",
    "* Week of April 2\n",
    "<br>-----test the new training code on the model \n",
    "* Week of April 9\n",
    "<br>-----finalize the project \n",
    "* April 15 - Final Project due"
   ]
  },
  {
   "cell_type": "markdown",
   "id": "6bb2e981",
   "metadata": {},
   "source": [
    "---\n",
    "### Part 1 Software Exploration\n",
    "\n",
    "In the first part of the assignment, I am going to review the PyTorch deep learning framework for parallel training. PyTorch is a widely used open-source framework for deep learning, which has gained popularity in recent years due to its simplicity and flexibility. PyTorch provides native support for parallel computing, making it easy to train large models on multiple GPUs.\n",
    "\n",
    "I plan to start my review by familiarizing myself with the basic concepts of PyTorch and its parallel training capabilities. I will be reviewing the official PyTorch documentation (https://pytorch.org/tutorials/intermediate/ddp_tutorial.html), as well as reading articles and tutorials from the PyTorch community. I will also be conducting hands-on experiments to evaluate the performance of parallel training in PyTorch.\n",
    "\n",
    "The outcome of this step is expected to be a comprehensive review of the PyTorch framework and its parallel training capabilities. I will provide a detailed report on the features, limitations, and performance of PyTorch for parallel training. I will also provide a list of instructions for running parallel training on a HPC system, which will allow other researchers to replicate my experiments. Additionally, I may also provide a folder in a format compatible with getexample to make it easier for others to run the code."
   ]
  },
  {
   "cell_type": "markdown",
   "id": "32d33fcf",
   "metadata": {},
   "source": [
    "### Part 2 Benchmark and Optimization\n",
    "I am going to benchmark the code for image classification tasks using the PyTorch deep learning framework. I will be using popular deep learning models, such as ResNet and VGG, to evaluate the performance of parallel training in PyTorch.\n",
    "\n",
    "The code for image classification is already capable of running in parallel in PyTorch. I will be looking for ways to optimize the throughput of the software by experimenting with different parallelization strategies, such as data parallelism and model parallelism. I will also investigate the impact of different batch sizes, learning rates, and other hyperparameters on the performance of parallel training.\n",
    "\n",
    "To evaluate the software and determine if the project is successful, I will be comparing the training time and accuracy of the models trained using parallel and non-parallel training methods. I will be using popular evaluation metrics, such as top-1 accuracy, top-5 accuracy, and loss, to measure the performance of the models.\n",
    "\n",
    "In my final report, I hope to deliver a comprehensive analysis of the performance of parallel training in PyTorch for object detection tasks. I expect to demonstrate the impact of different parallelization strategies and hyperparameters on the performance of parallel training. A successful outcome would be to show that parallel training can significantly reduce the training time while maintaining high accuracy, providing a valuable tool for researchers and practitioners in the field of deep learning and computer vision."
   ]
  }
 ],
 "metadata": {
  "kernelspec": {
   "display_name": "Python 3",
   "language": "python",
   "name": "python3"
  },
  "language_info": {
   "codemirror_mode": {
    "name": "ipython",
    "version": 3
   },
   "file_extension": ".py",
   "mimetype": "text/x-python",
   "name": "python",
   "nbconvert_exporter": "python",
   "pygments_lexer": "ipython3",
   "version": "3.8.8"
  }
 },
 "nbformat": 4,
 "nbformat_minor": 5
}
